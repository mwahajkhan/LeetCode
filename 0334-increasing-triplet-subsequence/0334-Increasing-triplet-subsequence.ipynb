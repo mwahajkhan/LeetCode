{
 "cells": [
  {
   "cell_type": "code",
   "id": "initial_id",
   "metadata": {
    "collapsed": true,
    "jupyter": {
     "is_executing": true
    }
   },
   "source": [
    "class Solution(object):\n",
    "    def increasingTriplet(self, nums):\n",
    "        if len(nums) < 3:\n",
    "            return False\n",
    "        \n",
    "        first = second = float('inf')\n",
    "        \n",
    "        for num in nums:\n",
    "            if num <= first:\n",
    "                first = num  # smallest so far\n",
    "            elif num <= second:\n",
    "                second = num  # second smallest so far\n",
    "            else:\n",
    "                # if we find a number larger than both first and second, we have a triplet\n",
    "                return True\n",
    "        \n",
    "        return False\n",
    "        \n",
    "        "
   ],
   "outputs": [],
   "execution_count": null
  },
  {
   "metadata": {},
   "cell_type": "code",
   "outputs": [],
   "execution_count": null,
   "source": "",
   "id": "be95412db81bd3c"
  }
 ],
 "metadata": {
  "kernelspec": {
   "display_name": "Python 3",
   "language": "python",
   "name": "python3"
  },
  "language_info": {
   "codemirror_mode": {
    "name": "ipython",
    "version": 2
   },
   "file_extension": ".py",
   "mimetype": "text/x-python",
   "name": "python",
   "nbconvert_exporter": "python",
   "pygments_lexer": "ipython2",
   "version": "2.7.6"
  }
 },
 "nbformat": 4,
 "nbformat_minor": 5
}
